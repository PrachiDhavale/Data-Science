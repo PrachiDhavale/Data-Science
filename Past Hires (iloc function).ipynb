Here is the Python code extracted from the Jupyter Notebook:

```python
import pandas as pd
import numpy as np

# Importing the dataset
data = pd.read_csv(r'C:\\Users\\admin\\Desktop\\Study Material\\SEM V\\Machine Learning\\PastHires.csv')

# Displaying the dataset
data

# Indexing DataFrames with Pandas
# The iloc method allows us to retrieve rows and columns by position
data.iloc[:5,:]  # — the first 5 rows, and all of the columns for those rows.

data.iloc[:,:]  # — the entire DataFrame.

data.iloc[5:,5:]  # — rows from position 5 onwards, and columns from position 5 onwards.

data.iloc[:,0]  # — the first column, and all of the rows for the column.

data.iloc[9,:]  # — the 10th row, and all of the columns for that row.

data.head()  # Display the first 5 rows of the DataFrame

data.tail()  # Display the last 5 rows of the DataFrame
```

You can copy this code and run it in a Python environment.

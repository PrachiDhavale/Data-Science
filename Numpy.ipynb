{
 "cells": [
  {
   "cell_type": "code",
   "execution_count": 1,
   "id": "56435cd4-dfea-4e7f-a37e-8d9c1c946778",
   "metadata": {},
   "outputs": [],
   "source": [
    "import numpy as np\n",
    "from numpy import array"
   ]
  },
  {
   "cell_type": "code",
   "execution_count": 2,
   "id": "d35c6a2d-9738-4c65-8749-4009568d4e7c",
   "metadata": {},
   "outputs": [
    {
     "data": {
      "text/plain": [
       "array([1, 2, 3])"
      ]
     },
     "execution_count": 2,
     "metadata": {},
     "output_type": "execute_result"
    }
   ],
   "source": [
    "#Creating Arrays\n",
    "#Create a list and convert it into a numpy array\n",
    "mylist = [1,2,3]\n",
    "x = np.array(mylist)\n",
    "x"
   ]
  },
  {
   "cell_type": "code",
   "execution_count": 3,
   "id": "1af88b4c-527e-4133-b864-551c077e778b",
   "metadata": {},
   "outputs": [
    {
     "data": {
      "text/plain": [
       "array([4, 5, 6])"
      ]
     },
     "execution_count": 3,
     "metadata": {},
     "output_type": "execute_result"
    }
   ],
   "source": [
    "#Or just pass in a list directly\n",
    "y = np.array([4,5,6])\n",
    "y"
   ]
  },
  {
   "cell_type": "code",
   "execution_count": 4,
   "id": "0724f696-0810-46c3-aec3-dea5ce7fa5b5",
   "metadata": {},
   "outputs": [
    {
     "data": {
      "text/plain": [
       "array([[ 7,  8,  9],\n",
       "       [10, 11, 12]])"
      ]
     },
     "execution_count": 4,
     "metadata": {},
     "output_type": "execute_result"
    }
   ],
   "source": [
    "#Pass in a list of lists to create a multidimensional array\n",
    "m = np.array([[7,8,9],\n",
    "             [10,11,12]])\n",
    "m"
   ]
  },
  {
   "cell_type": "code",
   "execution_count": 5,
   "id": "f58ece95-8ca9-449d-ae38-c4adacca5856",
   "metadata": {},
   "outputs": [
    {
     "data": {
      "text/plain": [
       "(2, 3)"
      ]
     },
     "execution_count": 5,
     "metadata": {},
     "output_type": "execute_result"
    }
   ],
   "source": [
    "#Use the shape method to find the dimensions of the array. (rows,columns)\n",
    "m.shape"
   ]
  },
  {
   "cell_type": "code",
   "execution_count": 7,
   "id": "2e3b03d2-8149-4038-8aaa-2d53f79c265a",
   "metadata": {},
   "outputs": [
    {
     "data": {
      "text/plain": [
       "array([ 0,  2,  4,  6,  8, 10, 12, 14, 16, 18, 20, 22, 24, 26, 28])"
      ]
     },
     "execution_count": 7,
     "metadata": {},
     "output_type": "execute_result"
    }
   ],
   "source": [
    "#Arrange returns evenly spaced values within a given interval\n",
    "n = np.arange(0, 30, 2)    #start at 0 count up by 2, stop before 30\n",
    "n"
   ]
  },
  {
   "cell_type": "code",
   "execution_count": 11,
   "id": "1513e27c-30b1-498e-8f7f-3a607534f933",
   "metadata": {},
   "outputs": [
    {
     "name": "stdout",
     "output_type": "stream",
     "text": [
      "[[ 0  2  4  6  8]\n",
      " [10 12 14 16 18]\n",
      " [20 22 24 26 28]]\n"
     ]
    }
   ],
   "source": [
    "#reshape() : returns an array with same data with a new shape\n",
    "n = n.reshape(3, 5)   # a reshaped array to be 3x5\n",
    "print(n)"
   ]
  },
  {
   "cell_type": "code",
   "execution_count": 10,
   "id": "018915a8-1f7b-4e44-80a7-c9e3aed23cba",
   "metadata": {},
   "outputs": [
    {
     "name": "stdout",
     "output_type": "stream",
     "text": [
      "Array before using reshape() function : \n",
      " [[ 1  2  3  4]\n",
      " [ 5  6  7  8]\n",
      " [ 9 10 11 12]]\n",
      "\n",
      "Array after using reshape() function : \n",
      " [[ 1  2  3]\n",
      " [ 4  5  6]\n",
      " [ 7  8  9]\n",
      " [10 11 12]]\n"
     ]
    }
   ],
   "source": [
    "# reshape() function\n",
    "\n",
    "arr = np.array([[1,2,3,4],\n",
    "                [5,6,7,8],\n",
    "                [9,10,11,12]])\n",
    "print(\"Array before using reshape() function : \\n\",arr)\n",
    "\n",
    "new_arr = arr.reshape(4,3)\n",
    "print(\"\\nArray after using reshape() function : \\n\",new_arr)"
   ]
  },
  {
   "cell_type": "code",
   "execution_count": 12,
   "id": "701a56f4-a6d1-40e4-aafd-078266ceafc9",
   "metadata": {},
   "outputs": [
    {
     "data": {
      "text/plain": [
       "array([ 0.        ,  8.18181818, 16.36363636, 24.54545455, 32.72727273,\n",
       "       40.90909091, 49.09090909, 57.27272727, 65.45454545, 73.63636364,\n",
       "       81.81818182, 90.        ])"
      ]
     },
     "execution_count": 12,
     "metadata": {},
     "output_type": "execute_result"
    }
   ],
   "source": [
    "#linspace() : returns evenly spaced numbers over a specified interval\n",
    "o = np.linspace(0, 90, 12)   #returns 12 evenly spaced values from 0 to 90\n",
    "o"
   ]
  },
  {
   "cell_type": "code",
   "execution_count": 9,
   "id": "1f2d83d9-988c-415e-9cc6-a9fd454cc906",
   "metadata": {},
   "outputs": [
    {
     "data": {
      "text/plain": [
       "array([[ 0.        ,  8.18181818, 16.36363636],\n",
       "       [24.54545455, 32.72727273, 40.90909091],\n",
       "       [49.09090909, 57.27272727, 65.45454545],\n",
       "       [73.63636364, 81.81818182, 90.        ]])"
      ]
     },
     "execution_count": 9,
     "metadata": {},
     "output_type": "execute_result"
    }
   ],
   "source": [
    "#resize changes the shape and size of array in-place.\n",
    "o.resize(4,3)\n",
    "o"
   ]
  },
  {
   "cell_type": "code",
   "execution_count": 10,
   "id": "7017578c-45f1-40df-8b2e-5a3896186951",
   "metadata": {},
   "outputs": [
    {
     "data": {
      "text/plain": [
       "array([[1., 1.],\n",
       "       [1., 1.],\n",
       "       [1., 1.]])"
      ]
     },
     "execution_count": 10,
     "metadata": {},
     "output_type": "execute_result"
    }
   ],
   "source": [
    "#onesreturns a new array of given shape and type, filled with ones.\n",
    "np.ones((3, 2))"
   ]
  },
  {
   "cell_type": "code",
   "execution_count": 11,
   "id": "817fbd5f-e7b7-4627-8c8c-d8f6124f4245",
   "metadata": {},
   "outputs": [
    {
     "data": {
      "text/plain": [
       "array([[0., 0.],\n",
       "       [0., 0.],\n",
       "       [0., 0.]])"
      ]
     },
     "execution_count": 11,
     "metadata": {},
     "output_type": "execute_result"
    }
   ],
   "source": [
    "#zeros returns a new array of given shape and type, filled with zeros.\n",
    "np.zeros((3, 2))"
   ]
  },
  {
   "cell_type": "code",
   "execution_count": 12,
   "id": "04a1f2a9-1f20-479f-9fbc-c17f1c1fd9b9",
   "metadata": {},
   "outputs": [
    {
     "data": {
      "text/plain": [
       "array([[1., 0., 0.],\n",
       "       [0., 1., 0.],\n",
       "       [0., 0., 1.]])"
      ]
     },
     "execution_count": 12,
     "metadata": {},
     "output_type": "execute_result"
    }
   ],
   "source": [
    "#eye returns a 2-D arraynwith ones on the diagonal and zeros elsewhere.\n",
    "np.eye(3)"
   ]
  },
  {
   "cell_type": "code",
   "execution_count": 13,
   "id": "17b4d849-91e2-4c3f-b451-14ac3ab250af",
   "metadata": {},
   "outputs": [
    {
     "data": {
      "text/plain": [
       "array([[4, 0, 0, 0],\n",
       "       [0, 5, 0, 0],\n",
       "       [0, 0, 6, 0],\n",
       "       [0, 0, 0, 7]])"
      ]
     },
     "execution_count": 13,
     "metadata": {},
     "output_type": "execute_result"
    }
   ],
   "source": [
    "#diag extracts a diagonal or constructs a diagonal array.\n",
    "y = np.array([4, 5, 6, 7])\n",
    "np.diag(y)"
   ]
  },
  {
   "cell_type": "code",
   "execution_count": 14,
   "id": "8c92d172-1918-4ef6-a482-8301d93e244f",
   "metadata": {},
   "outputs": [
    {
     "data": {
      "text/plain": [
       "array([[1, 2, 3],\n",
       "       [1, 2, 3],\n",
       "       [1, 2, 3]])"
      ]
     },
     "execution_count": 14,
     "metadata": {},
     "output_type": "execute_result"
    }
   ],
   "source": [
    "#Create an array using repeating list (or see np.title)\n",
    "np.array([[1, 2, 3]] * 3)"
   ]
  },
  {
   "cell_type": "code",
   "execution_count": 15,
   "id": "030f5c27-7efa-43e9-9a1d-d595ca57b568",
   "metadata": {},
   "outputs": [
    {
     "data": {
      "text/plain": [
       "array([1, 1, 1, 2, 2, 2, 3, 3, 3])"
      ]
     },
     "execution_count": 15,
     "metadata": {},
     "output_type": "execute_result"
    }
   ],
   "source": [
    "#Repeat elements of an array using repeat.\n",
    "np.repeat([1, 2, 3], 3)"
   ]
  },
  {
   "cell_type": "code",
   "execution_count": 18,
   "id": "339c779f-4df0-44c5-b4ea-7b851c4b5faa",
   "metadata": {},
   "outputs": [
    {
     "data": {
      "text/plain": [
       "array([18, 18, 18, 21, 21, 21, 22, 22, 22])"
      ]
     },
     "execution_count": 18,
     "metadata": {},
     "output_type": "execute_result"
    }
   ],
   "source": [
    "np.repeat([[18, 21, 22]],3)"
   ]
  },
  {
   "cell_type": "code",
   "execution_count": 19,
   "id": "0558da05-1f31-4139-aa7a-213814b78996",
   "metadata": {},
   "outputs": [
    {
     "data": {
      "text/plain": [
       "array([1. , 4.2, 3.5, 2.5])"
      ]
     },
     "execution_count": 19,
     "metadata": {},
     "output_type": "execute_result"
    }
   ],
   "source": [
    "#Numpy Array with floatinf point\n",
    "np.array([1.0, 4.2, 3.5, 2.5])"
   ]
  },
  {
   "cell_type": "code",
   "execution_count": 20,
   "id": "b2849d2c-c542-42fa-9841-102ad1bb0410",
   "metadata": {},
   "outputs": [
    {
     "data": {
      "text/plain": [
       "array([0., 0., 0., 0., 0., 0., 0., 0., 0., 0.])"
      ]
     },
     "execution_count": 20,
     "metadata": {},
     "output_type": "execute_result"
    }
   ],
   "source": [
    "#Create a length - 10 integer array filled with zeros\n",
    "np.zeros(10, )"
   ]
  }
 ],
 "metadata": {
  "kernelspec": {
   "display_name": "Python 3 (ipykernel)",
   "language": "python",
   "name": "python3"
  },
  "language_info": {
   "codemirror_mode": {
    "name": "ipython",
    "version": 3
   },
   "file_extension": ".py",
   "mimetype": "text/x-python",
   "name": "python",
   "nbconvert_exporter": "python",
   "pygments_lexer": "ipython3",
   "version": "3.11.5"
  }
 },
 "nbformat": 4,
 "nbformat_minor": 5
}

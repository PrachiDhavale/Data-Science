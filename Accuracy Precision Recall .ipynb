{
 "cells": [
  {
   "cell_type": "code",
   "execution_count": 1,
   "id": "6f0ba226-9791-4905-aac7-5c3dff996d82",
   "metadata": {},
   "outputs": [],
   "source": [
    "# Confusion matrix values\n",
    "TN = 50  # True Negatives\n",
    "FP = 10  # False Positives\n",
    "FN = 5   # False Negatives\n",
    "TP = 35  # True Positives"
   ]
  },
  {
   "cell_type": "code",
   "execution_count": 2,
   "id": "4f9a136f-01ac-41df-87b1-a8aed93a1e17",
   "metadata": {},
   "outputs": [],
   "source": [
    "# Accuracy: (TP + TN) / (TP + TN + FP + FN)\n",
    "accuracy = (TP + TN) / (TP + TN + FP + FN)\n",
    "\n",
    "# Precision: TP / (TP + FP)\n",
    "precision = TP / (TP + FP)\n",
    "\n",
    "# Recall: TP / (TP + FN)\n",
    "recall = TP / (TP + FN)\n",
    "\n",
    "# Specificity: TN / (TN + FP)\n",
    "specificity = TN / (TN + FP)"
   ]
  },
  {
   "cell_type": "code",
   "execution_count": 3,
   "id": "d9a7f0e1-c419-4118-b23a-749ad037e83e",
   "metadata": {},
   "outputs": [
    {
     "name": "stdout",
     "output_type": "stream",
     "text": [
      "Accuracy: 0.85\n",
      "Precision: 0.78\n",
      "Recall: 0.88\n",
      "Specificity: 0.83\n"
     ]
    }
   ],
   "source": [
    "# Print results\n",
    "print(f\"Accuracy: {accuracy:.2f}\")\n",
    "print(f\"Precision: {precision:.2f}\")\n",
    "print(f\"Recall: {recall:.2f}\")\n",
    "print(f\"Specificity: {specificity:.2f}\")"
   ]
  },
  {
   "cell_type": "code",
   "execution_count": null,
   "id": "9597d68e-4786-465f-8bb9-ba0d02bc3d77",
   "metadata": {},
   "outputs": [],
   "source": []
  }
 ],
 "metadata": {
  "kernelspec": {
   "display_name": "Python 3 (ipykernel)",
   "language": "python",
   "name": "python3"
  },
  "language_info": {
   "codemirror_mode": {
    "name": "ipython",
    "version": 3
   },
   "file_extension": ".py",
   "mimetype": "text/x-python",
   "name": "python",
   "nbconvert_exporter": "python",
   "pygments_lexer": "ipython3",
   "version": "3.11.5"
  }
 },
 "nbformat": 4,
 "nbformat_minor": 5
}

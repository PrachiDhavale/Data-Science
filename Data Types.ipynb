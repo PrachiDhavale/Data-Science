{
 "cells": [
  {
   "cell_type": "markdown",
   "id": "08fbce9a",
   "metadata": {},
   "source": [
    "# String :\n",
    "Anything defined in single quotes (' ') and double quotes (\" \") in python is treated as a string."
   ]
  },
  {
   "cell_type": "code",
   "execution_count": 1,
   "id": "a31e161b",
   "metadata": {},
   "outputs": [
    {
     "name": "stdout",
     "output_type": "stream",
     "text": [
      "Welcome to Python Programming\n"
     ]
    }
   ],
   "source": [
    "str = \"Welcome to Python Programming\"\n",
    "print(str)  #prints complete string"
   ]
  },
  {
   "cell_type": "code",
   "execution_count": 2,
   "id": "6956770b",
   "metadata": {},
   "outputs": [
    {
     "name": "stdout",
     "output_type": "stream",
     "text": [
      "W\n"
     ]
    }
   ],
   "source": [
    "# Print first character of the string\n",
    "print(str[0])"
   ]
  },
  {
   "cell_type": "code",
   "execution_count": 3,
   "id": "c5c83411",
   "metadata": {},
   "outputs": [
    {
     "name": "stdout",
     "output_type": "stream",
     "text": [
      "Python\n"
     ]
    }
   ],
   "source": [
    "# Print charachters starting from 11th index to 17th index\n",
    "print(str[11:17])"
   ]
  },
  {
   "cell_type": "code",
   "execution_count": 4,
   "id": "4eb6eb4c",
   "metadata": {},
   "outputs": [
    {
     "name": "stdout",
     "output_type": "stream",
     "text": [
      "Python Programming\n"
     ]
    }
   ],
   "source": [
    "# Print starting from 11th position\n",
    "print(str[11:])"
   ]
  },
  {
   "cell_type": "code",
   "execution_count": 5,
   "id": "0b3823b4",
   "metadata": {},
   "outputs": [
    {
     "name": "stdout",
     "output_type": "stream",
     "text": [
      "Welcome to Python ProgrammingWelcome to Python Programming\n"
     ]
    }
   ],
   "source": [
    "# Printing string 2 times\n",
    "print(str*2)"
   ]
  },
  {
   "cell_type": "code",
   "execution_count": 6,
   "id": "114f88f5",
   "metadata": {},
   "outputs": [
    {
     "name": "stdout",
     "output_type": "stream",
     "text": [
      "Welcome to Python Programming Session\n"
     ]
    }
   ],
   "source": [
    "# Concatinating a string with another String\n",
    "print(str+\" Session\")"
   ]
  },
  {
   "cell_type": "code",
   "execution_count": 7,
   "id": "bf50fb6b",
   "metadata": {},
   "outputs": [
    {
     "name": "stdout",
     "output_type": "stream",
     "text": [
      "29\n"
     ]
    }
   ],
   "source": [
    "# String formatting Functions :\n",
    "# len(string) - Returns the Length of String\n",
    "print(len(str))"
   ]
  },
  {
   "cell_type": "code",
   "execution_count": 8,
   "id": "d704b085",
   "metadata": {},
   "outputs": [
    {
     "name": "stdout",
     "output_type": "stream",
     "text": [
      "22\n"
     ]
    }
   ],
   "source": [
    "s = \"Learing Python is fun!\"\n",
    "print(len(s))"
   ]
  },
  {
   "cell_type": "code",
   "execution_count": 9,
   "id": "3ddd662b",
   "metadata": {},
   "outputs": [
    {
     "name": "stdout",
     "output_type": "stream",
     "text": [
      "learing python is fun!\n"
     ]
    }
   ],
   "source": [
    "# Lower\n",
    "print(s.lower())"
   ]
  },
  {
   "cell_type": "code",
   "execution_count": 10,
   "id": "2fb98a1f",
   "metadata": {},
   "outputs": [
    {
     "name": "stdout",
     "output_type": "stream",
     "text": [
      "LEARING PYTHON IS FUN!\n"
     ]
    }
   ],
   "source": [
    "# Upper - prints a copy of the string in which all lowercase alphabets are converted to uppercase alphabets\n",
    "print(s.upper())"
   ]
  },
  {
   "cell_type": "code",
   "execution_count": 11,
   "id": "0a5cc058",
   "metadata": {},
   "outputs": [
    {
     "name": "stdout",
     "output_type": "stream",
     "text": [
      "learning pyTHON IS FUN!\n"
     ]
    }
   ],
   "source": [
    "# Swapcase\n",
    "a = \"LEARNING PYthon is fun!\"\n",
    "print(a.swapcase())"
   ]
  },
  {
   "cell_type": "code",
   "execution_count": 12,
   "id": "b5de817f",
   "metadata": {},
   "outputs": [
    {
     "name": "stdout",
     "output_type": "stream",
     "text": [
      "Learning python is fun!\n"
     ]
    }
   ],
   "source": [
    "# Capitalize - retrurns a copy the string with only its first letter capitalized\n",
    "b = \"learning python is fun!\"\n",
    "print(b.capitalize())"
   ]
  },
  {
   "cell_type": "code",
   "execution_count": 13,
   "id": "5e86fa68",
   "metadata": {},
   "outputs": [
    {
     "name": "stdout",
     "output_type": "stream",
     "text": [
      "False\n"
     ]
    }
   ],
   "source": [
    "# isalpha\n",
    "c = \"This is Python12345\"\n",
    "print(c.isalpha())"
   ]
  },
  {
   "cell_type": "code",
   "execution_count": 14,
   "id": "05179ddc",
   "metadata": {},
   "outputs": [
    {
     "data": {
      "text/plain": [
       "str"
      ]
     },
     "execution_count": 14,
     "metadata": {},
     "output_type": "execute_result"
    }
   ],
   "source": [
    "type(s)"
   ]
  },
  {
   "cell_type": "code",
   "execution_count": 15,
   "id": "c5a77d69",
   "metadata": {},
   "outputs": [
    {
     "name": "stdout",
     "output_type": "stream",
     "text": [
      "True\n"
     ]
    }
   ],
   "source": [
    "d = \"Python\"\n",
    "print(d.isalpha())"
   ]
  },
  {
   "cell_type": "code",
   "execution_count": 16,
   "id": "7c454d76",
   "metadata": {},
   "outputs": [
    {
     "name": "stdout",
     "output_type": "stream",
     "text": [
      "Python-Programming\n"
     ]
    }
   ],
   "source": [
    "# join(str) -joined\n",
    "s = \"-\"\n",
    "seq = (\"Python\",\"Programming\")\n",
    "print(s.join(seq))"
   ]
  },
  {
   "cell_type": "code",
   "execution_count": 17,
   "id": "3cc74cd5",
   "metadata": {},
   "outputs": [
    {
     "name": "stdout",
     "output_type": "stream",
     "text": [
      "Python*Programming\n"
     ]
    }
   ],
   "source": [
    "s = \"*\"\n",
    "seq = (\"Python\",\"Programming\")\n",
    "print(s.join(seq))"
   ]
  },
  {
   "cell_type": "code",
   "execution_count": 21,
   "id": "2b2bbd9d",
   "metadata": {},
   "outputs": [
    {
     "name": "stdout",
     "output_type": "stream",
     "text": [
      "nohtyP\n"
     ]
    }
   ],
   "source": [
    "# Program to reverse the order of a string\n",
    "str = \"Python\"\n",
    "reversed_str = str[::-1]\n",
    "print(reversed_str)"
   ]
  },
  {
   "cell_type": "code",
   "execution_count": 24,
   "id": "e7002b95",
   "metadata": {},
   "outputs": [
    {
     "name": "stdout",
     "output_type": "stream",
     "text": [
      "Reversed String :  emoclew\n",
      "String is not Palindrome\n"
     ]
    }
   ],
   "source": [
    "# To check whether the string is Palindrome or Not\n",
    "str = \"welcome\"\n",
    "reversed_str = str[::-1]\n",
    "print(\"Reversed String : \",reversed_str)\n",
    "\n",
    "if(str==reversed_str) :\n",
    "    print(\"The string is Palindrome\")\n",
    "else :\n",
    "    print(\"String is not Palindrome\")"
   ]
  },
  {
   "cell_type": "markdown",
   "id": "d9956211",
   "metadata": {},
   "source": [
    "# "
   ]
  },
  {
   "cell_type": "markdown",
   "id": "aacc2423",
   "metadata": {},
   "source": [
    "# List"
   ]
  },
  {
   "cell_type": "code",
   "execution_count": null,
   "id": "74a9f397",
   "metadata": {},
   "outputs": [],
   "source": [
    "# List of Integers\n",
    "\n",
    "x = [1,2,3,4,5]\n",
    "print(x)\n",
    "print(type(x))"
   ]
  },
  {
   "cell_type": "code",
   "execution_count": null,
   "id": "506e6d2c",
   "metadata": {},
   "outputs": [],
   "source": [
    "# List of float\n",
    "\n",
    "y = [18.22, 22.18, 18.16, 21.018]\n",
    "print(y)"
   ]
  },
  {
   "cell_type": "code",
   "execution_count": null,
   "id": "90b0ac71",
   "metadata": {},
   "outputs": [],
   "source": [
    "# List with mixed datatypes\n",
    "\n",
    "a = [18, 10, 22.10, \"Hello World\"]\n",
    "print(a)"
   ]
  },
  {
   "cell_type": "code",
   "execution_count": null,
   "id": "99afca5e",
   "metadata": {},
   "outputs": [],
   "source": [
    "# Create a list using range\n",
    "\n",
    "b = list(range(5))\n",
    "b"
   ]
  },
  {
   "cell_type": "code",
   "execution_count": null,
   "id": "c1860d4d",
   "metadata": {},
   "outputs": [],
   "source": [
    "c = list(range(5,10))\n",
    "c"
   ]
  },
  {
   "cell_type": "code",
   "execution_count": null,
   "id": "3662faca",
   "metadata": {},
   "outputs": [],
   "source": [
    "d = list(range(5,10,2))\n",
    "d"
   ]
  },
  {
   "cell_type": "code",
   "execution_count": null,
   "id": "a730b36c",
   "metadata": {},
   "outputs": [],
   "source": [
    "e = list(range(1,10,3))\n",
    "e"
   ]
  },
  {
   "cell_type": "code",
   "execution_count": null,
   "id": "3c6daccc",
   "metadata": {},
   "outputs": [],
   "source": [
    "f = list(range(10,0,-2))\n",
    "f"
   ]
  },
  {
   "cell_type": "code",
   "execution_count": 1,
   "id": "6eb4d5a0",
   "metadata": {},
   "outputs": [
    {
     "name": "stdout",
     "output_type": "stream",
     "text": [
      "['abcd', 147, 22.18, 'TOM']\n",
      "[111, 'Tom']\n"
     ]
    }
   ],
   "source": [
    "firstlist = ['abcd', 147, 22.18, 'TOM' ]\n",
    "smalllist = [111, 'Tom']\n",
    "print(firstlist)\n",
    "print(smalllist)"
   ]
  },
  {
   "cell_type": "code",
   "execution_count": 2,
   "id": "a42a6f20",
   "metadata": {},
   "outputs": [
    {
     "name": "stdout",
     "output_type": "stream",
     "text": [
      "[147, 22.18, 'TOM']\n"
     ]
    }
   ],
   "source": [
    "print(firstlist[1:4])  #prints element starting from 2nd till 3rd position"
   ]
  },
  {
   "cell_type": "code",
   "execution_count": 3,
   "id": "88945d08",
   "metadata": {},
   "outputs": [
    {
     "name": "stdout",
     "output_type": "stream",
     "text": [
      "['abcd', 147, 22.18, 'TOM', 'abcd', 147, 22.18, 'TOM']\n"
     ]
    }
   ],
   "source": [
    "print(firstlist*2)  #prints list two times"
   ]
  },
  {
   "cell_type": "code",
   "execution_count": 4,
   "id": "283e0ee8",
   "metadata": {},
   "outputs": [
    {
     "name": "stdout",
     "output_type": "stream",
     "text": [
      "['abcd', 147, 22.18, 'TOM', 111, 'Tom']\n"
     ]
    }
   ],
   "source": [
    "print(firstlist+smalllist)  #prints concatenated list"
   ]
  },
  {
   "cell_type": "code",
   "execution_count": 8,
   "id": "7ac487ee",
   "metadata": {},
   "outputs": [
    {
     "name": "stdout",
     "output_type": "stream",
     "text": [
      "List Before Deletion :  ['abcd', 147, 22.18, 'TOM']\n",
      "List After Deletion :  ['abcd', 147, 22.18]\n"
     ]
    }
   ],
   "source": [
    "# Deleting an element from a list\n",
    "\n",
    "firstlist = ['abcd', 147, 22.18, 'TOM' ]\n",
    "print(\"List Before Deletion : \",firstlist)\n",
    "del firstlist[3]\n",
    "print(\"List After Deletion : \",firstlist)"
   ]
  },
  {
   "cell_type": "code",
   "execution_count": 9,
   "id": "3ddf7238",
   "metadata": {},
   "outputs": [
    {
     "name": "stdout",
     "output_type": "stream",
     "text": [
      "4\n"
     ]
    }
   ],
   "source": [
    "# len(list)\n",
    "firstlist = ['abcd', 147, 22.18, 'TOM' ]\n",
    "print(len(firstlist))"
   ]
  },
  {
   "cell_type": "code",
   "execution_count": 11,
   "id": "b9256dbf",
   "metadata": {},
   "outputs": [
    {
     "name": "stdout",
     "output_type": "stream",
     "text": [
      "Maximum =  30\n",
      "Minimum =  16\n"
     ]
    }
   ],
   "source": [
    "# max(list) - prints element from a list with maximum value\n",
    "# min(list) - prints element from a list with minimum value\n",
    "\n",
    "l1 = [18, 22, 16, 21, 30]\n",
    "print(\"Maximum = \",max(l1))\n",
    "print(\"Minimum = \",min(l1))"
   ]
  },
  {
   "cell_type": "code",
   "execution_count": 12,
   "id": "6410c0dd",
   "metadata": {},
   "outputs": [
    {
     "name": "stdout",
     "output_type": "stream",
     "text": [
      "Old list before Append :  ['abcd', 147, 22.18, 'TOM']\n",
      "New list after Append :  ['abcd', 147, 22.18, 'TOM', 100]\n"
     ]
    }
   ],
   "source": [
    "# list.append(obj) - this method appends object obj passed to the existing list\n",
    "firstlist = ['abcd', 147, 22.18, 'TOM' ]\n",
    "print(\"Old list before Append : \",firstlist)\n",
    "firstlist.append(100)\n",
    "print(\"New list after Append : \",firstlist)"
   ]
  },
  {
   "cell_type": "code",
   "execution_count": 13,
   "id": "83d114f2",
   "metadata": {},
   "outputs": [
    {
     "data": {
      "text/plain": [
       "['abcd', 147, 'fgh', 'TOM', 100]"
      ]
     },
     "execution_count": 13,
     "metadata": {},
     "output_type": "execute_result"
    }
   ],
   "source": [
    "firstlist[2] = \"fgh\"\n",
    "firstlist"
   ]
  },
  {
   "cell_type": "code",
   "execution_count": 14,
   "id": "56afc763",
   "metadata": {},
   "outputs": [
    {
     "data": {
      "text/plain": [
       "2"
      ]
     },
     "execution_count": 14,
     "metadata": {},
     "output_type": "execute_result"
    }
   ],
   "source": [
    "# list.count(obj) - returns how many times the object obj appears in a list\n",
    "l = ['abcd', 147, 22.18, 'TOM','abcd', 147, 22.18]\n",
    "l.count('abcd')"
   ]
  },
  {
   "cell_type": "code",
   "execution_count": 17,
   "id": "a92e9f10",
   "metadata": {},
   "outputs": [
    {
     "data": {
      "text/plain": [
       "['abcd', 147]"
      ]
     },
     "execution_count": 17,
     "metadata": {},
     "output_type": "execute_result"
    }
   ],
   "source": [
    "# list.remove(obj) - removes object obj from the list\n",
    "firstlist = ['abcd', 147, 22.18, 'TOM' ]\n",
    "del firstlist[2]\n",
    "firstlist\n",
    "\n",
    "firstlist.remove('TOM')\n",
    "firstlist"
   ]
  },
  {
   "cell_type": "markdown",
   "id": "29460330",
   "metadata": {},
   "source": [
    "# "
   ]
  },
  {
   "cell_type": "markdown",
   "id": "ef2eb8d8",
   "metadata": {},
   "source": [
    "# Tuple"
   ]
  },
  {
   "cell_type": "code",
   "execution_count": 1,
   "id": "03104bdb",
   "metadata": {},
   "outputs": [
    {
     "name": "stdout",
     "output_type": "stream",
     "text": [
      "('abcd', 147, 2.43, 'Tom', 74.9)\n"
     ]
    }
   ],
   "source": [
    "first_tuple = ('abcd', 147, 2.43, 'Tom', 74.9)\n",
    "small_tuple = (111, 'Tom')\n",
    "print(first_tuple)"
   ]
  },
  {
   "cell_type": "code",
   "execution_count": 2,
   "id": "9eca5e5a",
   "metadata": {},
   "outputs": [
    {
     "name": "stdout",
     "output_type": "stream",
     "text": [
      "(111, 'Tom', 111, 'Tom')\n"
     ]
    }
   ],
   "source": [
    "print(small_tuple*2)"
   ]
  },
  {
   "cell_type": "code",
   "execution_count": 3,
   "id": "f4e66156",
   "metadata": {},
   "outputs": [
    {
     "name": "stdout",
     "output_type": "stream",
     "text": [
      "('abcd', 147, 2.43, 'Tom', 74.9, 111, 'Tom')\n"
     ]
    }
   ],
   "source": [
    "print(first_tuple + small_tuple)"
   ]
  },
  {
   "cell_type": "code",
   "execution_count": 4,
   "id": "c5ad3903",
   "metadata": {},
   "outputs": [
    {
     "name": "stdout",
     "output_type": "stream",
     "text": [
      "4\n"
     ]
    }
   ],
   "source": [
    "# len(tuple) - Gives the total length of the tuple\n",
    "tuple1 = ('abcd', 147, 2.43, 'Tom')\n",
    "print(len(tuple1))"
   ]
  },
  {
   "cell_type": "code",
   "execution_count": 5,
   "id": "6a8d32c3",
   "metadata": {},
   "outputs": [
    {
     "name": "stdout",
     "output_type": "stream",
     "text": [
      "Maximum value in  (1200, 147, 2.34, 1.12)  is :  1200\n",
      "Maximum value in  (213, 100, 289)  is :  289\n"
     ]
    }
   ],
   "source": [
    "# max(tuple) - returns item from the tuple with maximum value\n",
    "tuple1 = (1200, 147, 2.34, 1.12)\n",
    "tuple2 = (213, 100, 289)\n",
    "print(\"Maximum value in \",tuple1,\" is : \",max(tuple1))\n",
    "print(\"Maximum value in \",tuple2,\" is : \",max(tuple2))"
   ]
  },
  {
   "cell_type": "code",
   "execution_count": 6,
   "id": "c2f9726f",
   "metadata": {},
   "outputs": [
    {
     "name": "stdout",
     "output_type": "stream",
     "text": [
      "Minimum value in  (1200, 147, 2.34, 1.12)  is :  1.12\n",
      "Minimum value in  (213, 100, 289)  is :  100\n"
     ]
    }
   ],
   "source": [
    "# min(tuple) - returns item from the tuple with minimum value\n",
    "tuple1 = (1200, 147, 2.34, 1.12)\n",
    "tuple2 = (213, 100, 289)\n",
    "print(\"Minimum value in \",tuple1,\" is : \",min(tuple1))\n",
    "print(\"Minimum value in \",tuple2,\" is : \",min(tuple2))"
   ]
  },
  {
   "cell_type": "markdown",
   "id": "c17c7ef6",
   "metadata": {},
   "source": [
    "# "
   ]
  },
  {
   "cell_type": "markdown",
   "id": "37f07922",
   "metadata": {},
   "source": [
    "# Set"
   ]
  },
  {
   "cell_type": "code",
   "execution_count": 7,
   "id": "9d0c0d65",
   "metadata": {},
   "outputs": [
    {
     "name": "stdout",
     "output_type": "stream",
     "text": [
      "{1, 2, 3}\n"
     ]
    }
   ],
   "source": [
    "s1 = {1,2,3}   #Set of integer numbers\n",
    "print(s1)"
   ]
  },
  {
   "cell_type": "code",
   "execution_count": 8,
   "id": "4631ec76",
   "metadata": {},
   "outputs": [
    {
     "name": "stdout",
     "output_type": "stream",
     "text": [
      "{1, 2, 3}\n"
     ]
    }
   ],
   "source": [
    "s2 = {1,2,3,2,1,2}   #Output contains only unique values\n",
    "print(s2)"
   ]
  },
  {
   "cell_type": "code",
   "execution_count": 9,
   "id": "2b2e37d7",
   "metadata": {},
   "outputs": [
    {
     "name": "stdout",
     "output_type": "stream",
     "text": [
      "{1, 2.4, 3, 'Tom', 'apple'}\n"
     ]
    }
   ],
   "source": [
    "s3 = {1, 2.4, 'apple', 'Tom', 3}   #Set of mixed datatypes\n",
    "print(s3)"
   ]
  },
  {
   "cell_type": "code",
   "execution_count": 10,
   "id": "42e0fb53",
   "metadata": {},
   "outputs": [
    {
     "name": "stdout",
     "output_type": "stream",
     "text": [
      "4\n"
     ]
    }
   ],
   "source": [
    "#len(set) - returns the length or total number of items in a set\n",
    "set1 = {'abcd', 147, 2.43, 'Tom'}\n",
    "print(len(set1))"
   ]
  },
  {
   "cell_type": "code",
   "execution_count": 14,
   "id": "5fcb7392",
   "metadata": {},
   "outputs": [
    {
     "name": "stdout",
     "output_type": "stream",
     "text": [
      "Maximum value in  {1200, 1.12, 2.34, 147}  is :  1200\n",
      "Maximum value in  {289, 100, 213}  is :  289\n"
     ]
    }
   ],
   "source": [
    "# max(set) - returns item from the set with maximum value\n",
    "set1 = {1200, 147, 2.34, 1.12}\n",
    "set2 = {213, 100, 289}\n",
    "print(\"Maximum value in \",set1,\" is : \",max(set1))\n",
    "print(\"Maximum value in \",set2,\" is : \",max(set2))"
   ]
  },
  {
   "cell_type": "code",
   "execution_count": 13,
   "id": "5b5996f7",
   "metadata": {},
   "outputs": [
    {
     "name": "stdout",
     "output_type": "stream",
     "text": [
      "Minimum value in  {1200, 1.12, 2.34, 147}  is :  1.12\n",
      "Minimum value in  {289, 100, 213}  is :  100\n"
     ]
    }
   ],
   "source": [
    "# min(set) - returns item from the set with minimum value\n",
    "set1 = {1200, 147, 2.34, 1.12}\n",
    "set2 = {213, 100, 289}\n",
    "print(\"Minimum value in \",set1,\" is : \",min(set1))\n",
    "print(\"Minimum value in \",set2,\" is : \",min(set2))"
   ]
  },
  {
   "cell_type": "code",
   "execution_count": 15,
   "id": "28ca28fc",
   "metadata": {},
   "outputs": [
    {
     "name": "stdout",
     "output_type": "stream",
     "text": [
      "Sum of all items in  {1200, 1.12, 2.34, 147}  is :  1350.4599999999998\n",
      "Sum of all items in  {289, 100, 213}  is :  602\n"
     ]
    }
   ],
   "source": [
    "# sum(set) - returns the sum of all items in the set\n",
    "set1 = {1200, 147, 2.34, 1.12}\n",
    "set2 = {213, 100, 289}\n",
    "print(\"Sum of all items in \",set1,\" is : \",sum(set1))\n",
    "print(\"Sum of all items in \",set2,\" is : \",sum(set2))"
   ]
  },
  {
   "cell_type": "code",
   "execution_count": 16,
   "id": "b757d20d",
   "metadata": {},
   "outputs": [
    {
     "name": "stdout",
     "output_type": "stream",
     "text": [
      "Elements before sorting  {1200, 1.12, 2.34, 147}\n",
      "Elements after sorting [1.12, 2.34, 147, 1200]\n"
     ]
    }
   ],
   "source": [
    "# sorted(set)\n",
    "set1 = {1200, 147, 2.34, 1.12}\n",
    "set2 = {213, 100, 289}\n",
    "print(\"Elements before sorting \",set1)\n",
    "print(\"Elements after sorting\", sorted(set1))"
   ]
  },
  {
   "cell_type": "code",
   "execution_count": 18,
   "id": "3119d65f",
   "metadata": {},
   "outputs": [
    {
     "name": "stdout",
     "output_type": "stream",
     "text": [
      "Set1 after adding new element :  {2, 3, 6, 8, 9}\n"
     ]
    }
   ],
   "source": [
    "# set.add(obj) - adds an element obj to a set\n",
    "set1 = {3,8,2,6}\n",
    "set1.add(9)\n",
    "print(\"Set1 after adding new element : \",set1)"
   ]
  },
  {
   "cell_type": "code",
   "execution_count": 19,
   "id": "4437b5bf",
   "metadata": {},
   "outputs": [
    {
     "name": "stdout",
     "output_type": "stream",
     "text": [
      "Set1 after deleting an element :  {8, 2, 6}\n"
     ]
    }
   ],
   "source": [
    "# set.remove(obj)\n",
    "set1 = {3,8,2,6}\n",
    "set1.remove(3)\n",
    "print(\"Set1 after deleting an element : \",set1)"
   ]
  },
  {
   "cell_type": "code",
   "execution_count": 17,
   "id": "ae2d724f",
   "metadata": {},
   "outputs": [
    {
     "name": "stdout",
     "output_type": "stream",
     "text": [
      "Set1 :  {8, 2, 3, 6}\n",
      "Set2 :  {8, 1, 5, 7}\n",
      "Union :  {1, 2, 3, 5, 6, 7, 8}\n"
     ]
    }
   ],
   "source": [
    "# set.union(set2) - returns the union of two sets as a new set\n",
    "set1 = {3,8,2,6}\n",
    "print(\"Set1 : \",set1)\n",
    "set2 = {7,8,5,1}\n",
    "print(\"Set2 : \",set2)\n",
    "set3 = set1.union(set2)\n",
    "print(\"Union : \",set3)"
   ]
  },
  {
   "cell_type": "markdown",
   "id": "00a988cc",
   "metadata": {},
   "source": [
    "# "
   ]
  },
  {
   "cell_type": "markdown",
   "id": "3f6aed2f",
   "metadata": {},
   "source": [
    "# Assignment"
   ]
  },
  {
   "cell_type": "code",
   "execution_count": 21,
   "id": "7d9a8a9c",
   "metadata": {},
   "outputs": [
    {
     "name": "stdout",
     "output_type": "stream",
     "text": [
      "Enter a string : Prachi\n",
      "String in upper case :  PRACHI\n",
      "String in lower case :  prachi\n"
     ]
    }
   ],
   "source": [
    "#write a python script that takes input from the user and displays that input back in upper and lower cases\n",
    "script = str(input(\"Enter a string : \"))\n",
    "print(\"String in upper case : \",script.upper())\n",
    "print(\"String in lower case : \",script.lower())"
   ]
  },
  {
   "cell_type": "code",
   "execution_count": 23,
   "id": "fbd45c67",
   "metadata": {},
   "outputs": [
    {
     "name": "stdout",
     "output_type": "stream",
     "text": [
      "Largest number from list  [18, 18.22, 22.21, 100, 30]  is :  100\n"
     ]
    }
   ],
   "source": [
    "#write a python program to get largest number from a list\n",
    "l1 = [18, 18.22, 22.21, 100, 30]\n",
    "print(\"Largest number from list \",l1,\" is : \",max(l1))"
   ]
  },
  {
   "cell_type": "code",
   "execution_count": 24,
   "id": "415e7a23",
   "metadata": {},
   "outputs": [
    {
     "name": "stdout",
     "output_type": "stream",
     "text": [
      "30  is largest\n"
     ]
    }
   ],
   "source": [
    "#program to find the biggest of three numbers\n",
    "a = 10\n",
    "b = 20\n",
    "c = 30\n",
    "if(a>b & a>c) :\n",
    "    print(a,\" is largest\")\n",
    "elif(b>a & b>c) :\n",
    "    print(b,\" is largest\")\n",
    "else :\n",
    "    print(c,\" is largest\")"
   ]
  },
  {
   "cell_type": "markdown",
   "id": "e2ae5009",
   "metadata": {},
   "source": [
    "# "
   ]
  },
  {
   "cell_type": "markdown",
   "id": "33cc51c0",
   "metadata": {},
   "source": [
    "# Dictionary"
   ]
  },
  {
   "cell_type": "code",
   "execution_count": 25,
   "id": "11779c76",
   "metadata": {},
   "outputs": [
    {
     "name": "stdout",
     "output_type": "stream",
     "text": [
      "{'Brand': 'Ford', 'Model': 'Mustang', 'Year': 1964}\n"
     ]
    }
   ],
   "source": [
    "thisdict = {\n",
    "    \"Brand\" : \"Ford\",\n",
    "    \"Model\" : \"Mustang\",\n",
    "    \"Year\" : 1964\n",
    "}\n",
    "print(thisdict)"
   ]
  },
  {
   "cell_type": "code",
   "execution_count": 26,
   "id": "5d1bf2a8",
   "metadata": {},
   "outputs": [
    {
     "name": "stdout",
     "output_type": "stream",
     "text": [
      "{'Name': 'John', 'Code': 6734, 'Dept': 'Sales'}\n",
      "dict_keys(['Name', 'Code', 'Dept'])\n",
      "dict_values(['John', 6734, 'Sales'])\n"
     ]
    }
   ],
   "source": [
    "tinydict = {'Name' : 'John', 'Code' : 6734, 'Dept' : 'Sales' }\n",
    "print(tinydict)   #Prints complete dictionary\n",
    "print(tinydict.keys())   #Prints all the keys\n",
    "print(tinydict.values())   #Prints all the values"
   ]
  },
  {
   "cell_type": "code",
   "execution_count": 27,
   "id": "c84a5351",
   "metadata": {},
   "outputs": [
    {
     "name": "stdout",
     "output_type": "stream",
     "text": [
      "{'Name': 'Tom', 'Age': 20, 'Height': 160}\n",
      "{'Name': 'Tom', 'Age': 25, 'Height': 160}\n"
     ]
    }
   ],
   "source": [
    "# We can update a dictionary by adding a new key-value pair or modifying an existing entry\n",
    "dict1 = {'Name' : 'Tom', 'Age' : 20, 'Height' : 160}\n",
    "print(dict1)\n",
    "dict1['Age'] = 25   #updating a value\n",
    "print(dict1)"
   ]
  },
  {
   "cell_type": "code",
   "execution_count": 28,
   "id": "4102cc2a",
   "metadata": {},
   "outputs": [
    {
     "name": "stdout",
     "output_type": "stream",
     "text": [
      "{'Name': 'Tom', 'Age': 25, 'Height': 160, 'Weight': 60}\n"
     ]
    }
   ],
   "source": [
    "dict1['Weight']=60   #Adding a new key-value pair\n",
    "print(dict1)"
   ]
  },
  {
   "cell_type": "code",
   "execution_count": 29,
   "id": "391a3534",
   "metadata": {},
   "outputs": [
    {
     "name": "stdout",
     "output_type": "stream",
     "text": [
      "{'Name': 'Tom', 'Age': 20, 'Height': 160}\n",
      "Dictionary after deletion :  {'Name': 'Tom', 'Height': 160}\n",
      "{}\n"
     ]
    }
   ],
   "source": [
    "#we can delete the entire dictionary elements or individual elements in a dictionary.\n",
    "#we can use del statement to delete the dictionary completely\n",
    "dict1 = {'Name' : 'Tom', 'Age' : 20, 'Height' : 160}\n",
    "print(dict1)\n",
    "del dict1['Age']   #Deleting key-value pair 'Age':20\n",
    "print(\"Dictionary after deletion : \",dict1)\n",
    "dict1.clear()\n",
    "print(dict1)"
   ]
  },
  {
   "cell_type": "code",
   "execution_count": 32,
   "id": "f244869b",
   "metadata": {},
   "outputs": [
    {
     "name": "stdout",
     "output_type": "stream",
     "text": [
      "{'Name': 'Tom', 'Age': 20, 'Height': 160}\n",
      "Length of the dictionary =  3\n"
     ]
    }
   ],
   "source": [
    "# Built-in Functions\n",
    "# len(dict) - gives the length of a dictionary\n",
    "dict1 = {'Name' : 'Tom', 'Age' : 20, 'Height' : 160}\n",
    "print(dict1)\n",
    "print(\"Length of the dictionary = \",len(dict1))"
   ]
  },
  {
   "cell_type": "code",
   "execution_count": 33,
   "id": "93566b2d",
   "metadata": {},
   "outputs": [
    {
     "name": "stdout",
     "output_type": "stream",
     "text": [
      "{'Name': 'Tom', 'Age': 20, 'Height': 160}\n",
      "{'Name': 'Tom', 'Age': 20, 'Height': 160}\n"
     ]
    }
   ],
   "source": [
    "# dict.copy() - returns a copy of the dictionary\n",
    "dict1 = {'Name' : 'Tom', 'Age' : 20, 'Height' : 160}\n",
    "print(dict1)\n",
    "dict2 = dict1.copy()\n",
    "print(dict2)"
   ]
  },
  {
   "cell_type": "code",
   "execution_count": 35,
   "id": "9c6be23f",
   "metadata": {},
   "outputs": [
    {
     "name": "stdout",
     "output_type": "stream",
     "text": [
      "Dictionary1 :  {'a': 100, 'b': 200}\n",
      "Dictionary2 :  {'x': 300, 'y': 200}\n",
      "Merged Dictionary :  {'a': 100, 'b': 200, 'x': 300, 'y': 200}\n"
     ]
    }
   ],
   "source": [
    "#write a python script to merge two dictionaries\n",
    "d1 = {'a':100, 'b':200}\n",
    "d2 = {'x':300, 'y':200}\n",
    "print(\"Dictionary1 : \",d1)\n",
    "print(\"Dictionary2 : \",d2)\n",
    "d = d1.copy()\n",
    "d.update(d2)\n",
    "print(\"Merged Dictionary : \",d)"
   ]
  }
 ],
 "metadata": {
  "kernelspec": {
   "display_name": "Python 3 (ipykernel)",
   "language": "python",
   "name": "python3"
  },
  "language_info": {
   "codemirror_mode": {
    "name": "ipython",
    "version": 3
   },
   "file_extension": ".py",
   "mimetype": "text/x-python",
   "name": "python",
   "nbconvert_exporter": "python",
   "pygments_lexer": "ipython3",
   "version": "3.11.5"
  }
 },
 "nbformat": 4,
 "nbformat_minor": 5
}

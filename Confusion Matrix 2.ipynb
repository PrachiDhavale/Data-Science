{
 "cells": [
  {
   "cell_type": "code",
   "execution_count": 1,
   "id": "ede00b95-a3b6-4e63-8768-f4561ef65b1a",
   "metadata": {},
   "outputs": [],
   "source": [
    "import pandas as pd\n",
    "import numpy as np"
   ]
  },
  {
   "cell_type": "code",
   "execution_count": 2,
   "id": "819591a7-ef8d-4399-a08c-a2f88d2469b8",
   "metadata": {},
   "outputs": [
    {
     "data": {
      "text/html": [
       "<div>\n",
       "<style scoped>\n",
       "    .dataframe tbody tr th:only-of-type {\n",
       "        vertical-align: middle;\n",
       "    }\n",
       "\n",
       "    .dataframe tbody tr th {\n",
       "        vertical-align: top;\n",
       "    }\n",
       "\n",
       "    .dataframe thead th {\n",
       "        text-align: right;\n",
       "    }\n",
       "</style>\n",
       "<table border=\"1\" class=\"dataframe\">\n",
       "  <thead>\n",
       "    <tr style=\"text-align: right;\">\n",
       "      <th></th>\n",
       "      <th>Actual Value</th>\n",
       "      <th>Predicted Value</th>\n",
       "    </tr>\n",
       "  </thead>\n",
       "  <tbody>\n",
       "    <tr>\n",
       "      <th>0</th>\n",
       "      <td>No</td>\n",
       "      <td>Yes</td>\n",
       "    </tr>\n",
       "    <tr>\n",
       "      <th>1</th>\n",
       "      <td>No</td>\n",
       "      <td>No</td>\n",
       "    </tr>\n",
       "    <tr>\n",
       "      <th>2</th>\n",
       "      <td>Yes</td>\n",
       "      <td>Yes</td>\n",
       "    </tr>\n",
       "    <tr>\n",
       "      <th>3</th>\n",
       "      <td>No</td>\n",
       "      <td>No</td>\n",
       "    </tr>\n",
       "    <tr>\n",
       "      <th>4</th>\n",
       "      <td>Yes</td>\n",
       "      <td>No</td>\n",
       "    </tr>\n",
       "    <tr>\n",
       "      <th>5</th>\n",
       "      <td>Yes</td>\n",
       "      <td>Yes</td>\n",
       "    </tr>\n",
       "    <tr>\n",
       "      <th>6</th>\n",
       "      <td>Yes</td>\n",
       "      <td>Yes</td>\n",
       "    </tr>\n",
       "    <tr>\n",
       "      <th>7</th>\n",
       "      <td>No</td>\n",
       "      <td>No</td>\n",
       "    </tr>\n",
       "    <tr>\n",
       "      <th>8</th>\n",
       "      <td>No</td>\n",
       "      <td>Yes</td>\n",
       "    </tr>\n",
       "    <tr>\n",
       "      <th>9</th>\n",
       "      <td>Yes</td>\n",
       "      <td>Yes</td>\n",
       "    </tr>\n",
       "  </tbody>\n",
       "</table>\n",
       "</div>"
      ],
      "text/plain": [
       "  Actual Value Predicted Value\n",
       "0           No             Yes\n",
       "1           No              No\n",
       "2          Yes             Yes\n",
       "3           No              No\n",
       "4          Yes              No\n",
       "5          Yes             Yes\n",
       "6          Yes             Yes\n",
       "7           No              No\n",
       "8           No             Yes\n",
       "9          Yes             Yes"
      ]
     },
     "execution_count": 2,
     "metadata": {},
     "output_type": "execute_result"
    }
   ],
   "source": [
    "data = pd.DataFrame( {\"Actual Value\" : ['No', 'No', 'Yes', 'No', 'Yes', 'Yes', 'Yes', 'No', 'No', 'Yes'],\n",
    "                      \"Predicted Value\" : ['Yes', 'No', 'Yes', 'No', 'No', 'Yes', 'Yes', 'No', 'Yes', 'Yes']})\n",
    "\n",
    "data"
   ]
  },
  {
   "cell_type": "code",
   "execution_count": 5,
   "id": "eba66c4d-9579-40b5-849e-091715e9e325",
   "metadata": {},
   "outputs": [
    {
     "name": "stdout",
     "output_type": "stream",
     "text": [
      "[[3 2]\n",
      " [1 4]]\n"
     ]
    }
   ],
   "source": [
    "from sklearn.metrics import confusion_matrix\n",
    "cm = confusion_matrix(data['Actual Value'], data['Predicted Value'])\n",
    "print(cm)"
   ]
  },
  {
   "cell_type": "code",
   "execution_count": 6,
   "id": "8e89860e-263f-4131-82d0-af21e3d7db82",
   "metadata": {},
   "outputs": [],
   "source": [
    "TP = 4\n",
    "TN = 3\n",
    "FN = 1\n",
    "FP = 2"
   ]
  },
  {
   "cell_type": "code",
   "execution_count": 8,
   "id": "75740e3b-8ad8-499c-a547-e624677e5fa8",
   "metadata": {},
   "outputs": [
    {
     "name": "stdout",
     "output_type": "stream",
     "text": [
      "Accuracy of the model =  0.7\n"
     ]
    }
   ],
   "source": [
    "# What is the accuracy of the predictions?\n",
    "\n",
    "Accuracy = (TP + TN)/(TP + TN + FP + FN)\n",
    "print(\"Accuracy of the model = \",Accuracy)"
   ]
  },
  {
   "cell_type": "code",
   "execution_count": 9,
   "id": "3aa594a4-5c05-4d6e-9527-cf20062a6e93",
   "metadata": {},
   "outputs": [
    {
     "name": "stdout",
     "output_type": "stream",
     "text": [
      "Precision of the predictions =  0.6666666666666666\n"
     ]
    }
   ],
   "source": [
    "# What is the precision of the predictions?\n",
    "\n",
    "Precision = TP/(TP+FP)\n",
    "print(\"Precision of the predictions = \",Precision)"
   ]
  },
  {
   "cell_type": "code",
   "execution_count": 10,
   "id": "515dca82-c618-4179-b9b6-f9494b64b1d1",
   "metadata": {},
   "outputs": [
    {
     "name": "stdout",
     "output_type": "stream",
     "text": [
      "Recall of the predictions =  0.8\n"
     ]
    }
   ],
   "source": [
    "# What is the recall of the predictions?\n",
    "\n",
    "recall = TP/(TP+FN)\n",
    "print(\"Recall of the predictions = \",recall)"
   ]
  },
  {
   "cell_type": "code",
   "execution_count": null,
   "id": "2970bcf6-3253-4889-8c8f-eb2e4117f599",
   "metadata": {},
   "outputs": [],
   "source": []
  }
 ],
 "metadata": {
  "kernelspec": {
   "display_name": "Python 3 (ipykernel)",
   "language": "python",
   "name": "python3"
  },
  "language_info": {
   "codemirror_mode": {
    "name": "ipython",
    "version": 3
   },
   "file_extension": ".py",
   "mimetype": "text/x-python",
   "name": "python",
   "nbconvert_exporter": "python",
   "pygments_lexer": "ipython3",
   "version": "3.11.5"
  }
 },
 "nbformat": 4,
 "nbformat_minor": 5
}
